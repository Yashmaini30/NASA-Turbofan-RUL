{
 "cells": [
  {
   "cell_type": "code",
   "execution_count": null,
   "id": "b8362207",
   "metadata": {},
   "outputs": [],
   "source": [
    "## Refer to the config.yaml\n",
    "# Col 1 → unit_number (engine id)\n",
    "# Col 2 → cycle (time step)\n",
    "# Cols 3–5 → operational settings (3 total)\n",
    "# Cols 6–26 → sensor measurements (21 total)"
   ]
  },
  {
   "cell_type": "code",
   "execution_count": null,
   "id": "a6350f2f",
   "metadata": {},
   "outputs": [],
   "source": [
    "# 1. Data sanity checks\n",
    "# Shape of datasets\n",
    "# Number of engines (unit_number unique values).\n",
    "# Cycles per engine (min, max, avg).\n",
    "# Match between test and RUL (1 RUL per engine)."
   ]
  },
  {
   "cell_type": "code",
   "execution_count": null,
   "id": "73736238",
   "metadata": {},
   "outputs": [],
   "source": [
    "# 2. Basic distribution analysis\n",
    "# Histogram of cycles until failure (training).\n",
    "# Distribution of RUL labels (how long before engines fail).\n",
    "# Plot engine trajectories → pick a few engines and plot their sensor readings vs. cycles.\n",
    "# Check if sensors show degradation trend or are just noisy."
   ]
  },
  {
   "cell_type": "code",
   "execution_count": null,
   "id": "54466c26",
   "metadata": {},
   "outputs": [],
   "source": [
    "# 3. Feature-level insights\n",
    "# Correlation heatmap of sensors\n",
    "    # Remove constant or highly redundant sensors\n",
    "# Variance check → drop sensors with near-zero variance\n",
    "# Stationarity check → some sensors drift, others stay stable"
   ]
  },
  {
   "cell_type": "code",
   "execution_count": null,
   "id": "7b7f19b0",
   "metadata": {},
   "outputs": [],
   "source": [
    "# 5. Normalization strategy\n",
    "# Check scaling differences across sensors.\n",
    "# Decide whether to normalize:\n",
    "    # Per-engine (unit-level scaling) or\n",
    "    # Global scaling across dataset."
   ]
  },
  {
   "cell_type": "code",
   "execution_count": null,
   "id": "d80754d4",
   "metadata": {},
   "outputs": [],
   "source": [
    "# Train vs Test differences\n",
    "# Compare distribution of sensors in train_FD00x vs test_FD00x.\n",
    "# if they don’t fully overlap → model needs robustness."
   ]
  },
  {
   "cell_type": "code",
   "execution_count": 3,
   "id": "36a6ff53",
   "metadata": {},
   "outputs": [],
   "source": [
    "# 7. Visualization for interpretability\n",
    "# PCA / t-SNE on sensor data to see if failing engines cluster differently.\n",
    "# Temporal plots for selected sensors (e.g., sensor 2, 3, 4, 7 are usually most predictive)."
   ]
  },
  {
   "cell_type": "code",
   "execution_count": null,
   "id": "c8234fd5",
   "metadata": {},
   "outputs": [],
   "source": []
  }
 ],
 "metadata": {
  "kernelspec": {
   "display_name": "nasa",
   "language": "python",
   "name": "python3"
  },
  "language_info": {
   "codemirror_mode": {
    "name": "ipython",
    "version": 3
   },
   "file_extension": ".py",
   "mimetype": "text/x-python",
   "name": "python",
   "nbconvert_exporter": "python",
   "pygments_lexer": "ipython3",
   "version": "3.11.13"
  }
 },
 "nbformat": 4,
 "nbformat_minor": 5
}
